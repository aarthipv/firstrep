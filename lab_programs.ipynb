{
  "nbformat": 4,
  "nbformat_minor": 0,
  "metadata": {
    "colab": {
      "provenance": [],
      "authorship_tag": "ABX9TyMp8hQnhez8vxzI/wHDIHm7",
      "include_colab_link": true
    },
    "kernelspec": {
      "name": "python3",
      "display_name": "Python 3"
    },
    "language_info": {
      "name": "python"
    }
  },
  "cells": [
    {
      "cell_type": "markdown",
      "metadata": {
        "id": "view-in-github",
        "colab_type": "text"
      },
      "source": [
        "<a href=\"https://colab.research.google.com/github/aarthipv/firstrep/blob/main/lab_programs.ipynb\" target=\"_parent\"><img src=\"https://colab.research.google.com/assets/colab-badge.svg\" alt=\"Open In Colab\"/></a>"
      ]
    },
    {
      "cell_type": "code",
      "execution_count": null,
      "metadata": {
        "id": "Kggj_06KrB4U"
      },
      "outputs": [],
      "source": [
        "#1a\n",
        "\"\"\"Write a python program to read 2 numbers from the keyboard and perform the basic \n",
        "arithmetic  operations based on the choice. (1-Add, 2-Subtract, 3-Multiply, 4-Divide) \"\"\"\n",
        "\n",
        "a=int(input(\"Enter number 1: \"))\n",
        "b=int(input(\"Enter number 2: \"))\n",
        "op=int(input(\"Enter your choice: \\n1. Add\\n2. Subtract\\n3. Multiply\\n4. Divide\\n\"))\n",
        "if op == 1:\n",
        "  print(\"Sum of \",a,\" &\",b,\" =\",a+b)\n",
        "elif op == 2:\n",
        "  print(\"Difference of \",a,\" &\",b,\" =\",a-b)\n",
        "elif op == 3:\n",
        "  print(\"Product of \",a,\" &\",b,\" =\",a*b)\n",
        "elif op == 4:\n",
        "  if b == 0:\n",
        "    print(\"ERROR! NUMBER 2 CANNOT BE 0!\")\n",
        "  else:\n",
        "    print(\"Dividing \",a,\" by\",b,\" =\",a/b)\n",
        "else: print(\"Enter a choice that is from the menu!\")\n",
        "\n",
        "\n"
      ]
    },
    {
      "cell_type": "code",
      "source": [
        "#1b\n",
        "\"\"\"b) Write a python program to find the factorial of number using while loop. \"\"\"\n",
        "n=int(input(\"Enter a number: \"))\n",
        "fact=1\n",
        "temp=n\n",
        "while temp!=0:\n",
        "  fact*=temp\n",
        "  temp-=1\n",
        "print(\"Factorial of \",n,\"=\",fact)\n",
        "\n",
        "\n"
      ],
      "metadata": {
        "id": "haSJzKXXU-T2"
      },
      "execution_count": null,
      "outputs": []
    },
    {
      "cell_type": "code",
      "source": [
        "#1c\n",
        "\"\"\" c) Write a python program to add 10 numbers by inputting each from the keyboard using for loop.\"\"\"\n",
        "sum=0\n",
        "for i in range(10):\n",
        "  a=int(input(\"Enter number: \"))\n",
        "  sum+=a\n",
        "print(\"Sum = \",sum)"
      ],
      "metadata": {
        "id": "NymeCTjYX9e0"
      },
      "execution_count": null,
      "outputs": []
    },
    {
      "cell_type": "code",
      "source": [
        "#2a\n",
        "\"\"\"a) Write a python function linearSearch() to read an array and search for \n",
        "the key element. Display  the appropriate messages. Use the recursive function. \"\"\"\n",
        "def linearSearch(arr,index,searchItem):\n",
        "  if index>=len(arr):\n",
        "        return -1\n",
        "  if arr[index]==searchItem:\n",
        "        return index\n",
        "  return linearSearch(arr,index+1,searchItem)\n",
        "\n",
        "searchItem=int(input(\"Please provide input search item:\"))\n",
        "arr=[30,40,20,50,10]\n",
        "result=linearSearch(arr,0,searchItem)\n",
        "if result<0:\n",
        "    print(searchItem,\" is not found\")\n",
        "else:\n",
        "    print(searchItem,\" is found at index:\",result)\n",
        "\n"
      ],
      "metadata": {
        "id": "F0nNn0I4Z6Bt"
      },
      "execution_count": null,
      "outputs": []
    },
    {
      "cell_type": "code",
      "source": [
        "#2b\n",
        "\"\"\"Write a python program to define a function max_of_three() that takes three \n",
        "numbers as  arguments and returns the largest of them using default arguments.\"\"\"\n",
        "def max_of_three(a,b,c):\n",
        "  if a>b and a>c:\n",
        "    return a\n",
        "  elif b>c:\n",
        "    return b\n",
        "  else: return c\n",
        "a=int(input(\"Enter number 1: \"))\n",
        "b=int(input(\"Enter number 2: \"))\n",
        "c=int(input(\"Enter number 3: \"))\n",
        "ans=max_of_three(a,b,c)\n",
        "print(\"Largest= \",ans)"
      ],
      "metadata": {
        "id": "dyutVzogbtNq"
      },
      "execution_count": null,
      "outputs": []
    },
    {
      "cell_type": "code",
      "source": [
        "#2c\n",
        "#Write a python program to define a function generate_n_chars() that takes an integer n and a character c and returns a string, n characters long. \n",
        "#For example, generate_n_chars(5,\"x\") should return the string \"xxxxx“ using keyword only parameters.\n",
        "def generate_n_chars(n, str):\n",
        "  #declare an empty variable result\n",
        "  result = \"\"\n",
        "  for x in range(n):\n",
        "    result += str\n",
        "  return result\n",
        "\n",
        "# as per question using the same input parameters.\n",
        "print(\"The string input x will be printed 5 time\",generate_n_chars(5, \"x\"))"
      ],
      "metadata": {
        "id": "AHoFeWnL9odi"
      },
      "execution_count": null,
      "outputs": []
    },
    {
      "cell_type": "code",
      "source": [
        "# 3a) Write a python program to implement a stack and queue using lists\n",
        "\n",
        "#Stack using list\n",
        "stack = [] \n",
        "\n",
        "#Function to print top element of stack\n",
        "def top(stack):\n",
        "  if stack != []:\n",
        "    print(stack[-1]  + \" is top element\")\n",
        "  else:\n",
        "    print(\"Stack Empty!!!\")\n",
        "\n",
        "#Function to print size of stack\n",
        "def size(stack):\n",
        "  print(\"Size of stack is \" + str(len(stack)))\n",
        "\n",
        "#Function to check if a stack is empty\n",
        "def empty(stack):\n",
        "  if stack == []:\n",
        "    print(\"True\")\n",
        "  else:\n",
        "    print(\"False\")\n",
        "\n",
        "# append() function is used to push element in the stack \n",
        "stack.append('a') \n",
        "stack.append('b') \n",
        "stack.append('c')\n",
        "\n",
        "size(stack)\n",
        "\n",
        "print(stack) \n",
        "\n",
        "top(stack)\n",
        "\n",
        "# pop() function to pop element from stack in LIFO order \n",
        "print(stack.pop() + \" is popped\")\n",
        "\n",
        "print(stack) \n",
        "\n",
        "empty(stack)\n",
        "\n",
        "\n",
        "#queue\n",
        "stack=['jaya', 'neema', 'rekha','sushma']\n",
        "print(stack)\n",
        "stack.append('surabhi')\n",
        "print(stack)\n",
        "\n",
        "print(stack.pop())\n",
        "print(stack)\n",
        "\n",
        "\n",
        "#***********************************************************\n",
        "print()\n",
        "print('QUEUE***********************')\n",
        "\n",
        "queue=['jaya', 'neema', 'rekha','sushma']\n",
        "print(queue)\n",
        "queue.append('seema')\n",
        "queue.append('praseeda')\n",
        "print(queue)\n",
        "print('*****')\n",
        "print(queue.pop(0))\n",
        "print('*****')\n",
        "print(queue.pop(0))\n",
        "print('*****')\n",
        "print(queue.pop(0))"
      ],
      "metadata": {
        "id": "SD5CIh1Wyzap"
      },
      "execution_count": null,
      "outputs": []
    },
    {
      "cell_type": "code",
      "source": [
        "#3b)\tWrite a python program to create a list of tuples having first element as the strings \n",
        "#and the second element as the length of the string. \n",
        "#Output the list of tuples sorted based on the length of the string\n",
        "\n",
        "# Creating and Print tuple list : first element string and second element is lenght of the string\n",
        "tupList =[(\"KTM\",3), (\"Enfield\", 7), (\"Ducati\", 6), (\"Honda\", 5)]\n",
        "# why there is a type convesion\n",
        "print(\"List of Tuple before sorting : \" + str(tupList))\n",
        "\n",
        "# Sorting List of Tuples in ascending order  \n",
        "tupList.sort(key = lambda x:x[-1])\n",
        "\n",
        "#Printing Sorted List \n",
        "print(\"List of Tuple after sorting : \" + str(tupList))"
      ],
      "metadata": {
        "id": "lLKijyzACqCe"
      },
      "execution_count": null,
      "outputs": []
    },
    {
      "cell_type": "code",
      "source": [
        "#3c)\tWrite a python program to create a list and perform the following operations :\n",
        "\n",
        "#CREATION OF LIST\n",
        "myList = [6.3,2.2,12,32]\n",
        "\n",
        "#   a) Inserting an element\n",
        "myList.insert(3, 4)\n",
        "print(\"After inserting at index 3, the value 4 \",myList)\n",
        "\n",
        "#•\tRemoving an element\n",
        "myList.remove(4)\n",
        "print(\"After removing the value 4 from the list \",myList)\n",
        "\n",
        "#•\tAppending an element\n",
        "myList.append(4)\n",
        "myList.append(5)\n",
        "\n",
        "print(\"After appending the values 4,5 \",(myList))\n",
        "\n",
        "#•\tDisplaying the length of the list\n",
        "print(\"The length of the list is \",len(myList))\n",
        "\n",
        "#•\tPopping an element \n",
        "myList.pop()\n",
        "print(\"After poping the last element 6 \",myList)\n",
        "\n",
        "#•\tClearing the list\n",
        "myList.clear()\n",
        "print(\"After clearing the list\",myList) #just for confirmation that there are no elements"
      ],
      "metadata": {
        "id": "JUIclILn7G4r"
      },
      "execution_count": null,
      "outputs": []
    },
    {
      "cell_type": "code",
      "source": [
        "#4a)\tWrite a tiny Python program numDict.py that makes a dictionary whose keys are the words ‘one’, ‘two’, ‘three’,\n",
        "#and ‘four’, and whose corresponding values are the numerical equivalents, 1, 2, 3, and 4 (ints, not strings).\n",
        "\n",
        "# creating the dictionary\n",
        "numDict = {\"one\":1, \"two\":2,\"three\":3,\"four\":4}\n",
        "\n",
        "# printing the dictionary\n",
        "print(\"Dictionary \\'numDict\\' is...\")\n",
        "print(numDict)\n",
        "\n",
        "# printing the keys & values\n",
        "#print(\"Dictionary \\'numDict\\' keys & values...\")\n",
        "#for x, y in numDict.items():\n",
        "#    print(x, ':', y)"
      ],
      "metadata": {
        "id": "7JRDYB2c7lTK"
      },
      "execution_count": null,
      "outputs": []
    },
    {
      "cell_type": "code",
      "source": [
        "#4b) Write a Python program to store PROFILE_DATA(user_id, name, DOB, qualification, work experience) in a dictionary \n",
        "#and  pretty print the dictionary contents. (import pprint)\n",
        "\n",
        "import pprint\n",
        "\n",
        "\n",
        "PROFILE_DATA = {\"user_id\":1, \"name\":\"abc\",\"DOB\": \"11/01/2023\",\"qualification\" :\"BE\",\"work experience\" : 3}\n",
        "\n",
        "print(\"Printing the normal way \\n\",PROFILE_DATA)\n",
        "\n",
        "#well formattted and more readable way\n",
        "pp = pprint.PrettyPrinter()\n",
        "print(\"\\n After using pretty printer\")\n",
        "pp.pprint(PROFILE_DATA)"
      ],
      "metadata": {
        "id": "vXJjFnWT7s9p"
      },
      "execution_count": null,
      "outputs": []
    }
  ]
}